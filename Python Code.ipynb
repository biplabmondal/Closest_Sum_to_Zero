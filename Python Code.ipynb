{
 "cells": [
  {
   "cell_type": "code",
   "execution_count": 1,
   "id": "b7c4daf6",
   "metadata": {},
   "outputs": [
    {
     "name": "stdout",
     "output_type": "stream",
     "text": [
      "Input: [-4, 7, 6, 2, -5]\n",
      "Output: (-4, 2)\n",
      "Input: [-50, 34, -19, 24, 33, 10, -46, -38]\n",
      "Output: (-19, 10)\n"
     ]
    }
   ],
   "source": [
    "def closest_to_zero(nums):\n",
    "    nums.sort()\n",
    "    closest_sum = float('inf')\n",
    "    closest_pair = None\n",
    "\n",
    "    for i in range(len(nums) - 1):\n",
    "        current_sum = nums[i] + nums[i + 1]\n",
    "        if abs(current_sum) < abs(closest_sum):\n",
    "            closest_sum = current_sum\n",
    "            closest_pair = (nums[i], nums[i + 1])\n",
    "\n",
    "    return closest_pair\n",
    "\n",
    "# Test cases\n",
    "test_cases = [\n",
    "    [-4, 7, 6, 2, -5],\n",
    "    [-50, 34, -19, 24, 33, 10, -46, -38]\n",
    "]\n",
    "\n",
    "for nums in test_cases:\n",
    "    print(\"Input:\", nums)\n",
    "    print(\"Output:\", closest_to_zero(nums))\n"
   ]
  },
  {
   "cell_type": "code",
   "execution_count": 2,
   "id": "10302498",
   "metadata": {},
   "outputs": [
    {
     "name": "stdout",
     "output_type": "stream",
     "text": [
      "Input: [-4, 7, 6, 2, -5]\n",
      "Output: (-4, 2)\n",
      "Input: [-50, 34, -19, 24, 33, 10, -46, -38]\n",
      "Output: (-19, 10)\n"
     ]
    }
   ],
   "source": [
    "# Define a function named closest_to_zero which takes a list of numbers as input\n",
    "def closest_to_zero(nums):\n",
    "    # Sort the input list in ascending order\n",
    "    nums.sort()\n",
    "    \n",
    "    # Initialize a variable to store the closest sum found so far, set to positive infinity\n",
    "    closest_sum = float('inf')\n",
    "    \n",
    "    # Initialize a variable to store the pair of elements whose sum is closest to zero, set to None\n",
    "    closest_pair = None\n",
    "    \n",
    "    # Iterate over the indices of the sorted list, excluding the last index\n",
    "    for i in range(len(nums) - 1):\n",
    "        # Calculate the sum of the current element and the next element in the sorted list\n",
    "        current_sum = nums[i] + nums[i + 1]\n",
    "        \n",
    "        # Check if the absolute value of current_sum is less than the absolute value of closest_sum\n",
    "        if abs(current_sum) < abs(closest_sum):\n",
    "            # If so, update closest_sum to the value of current_sum\n",
    "            closest_sum = current_sum\n",
    "            \n",
    "            # Update closest_pair to the pair of elements whose sum is closer to zero\n",
    "            closest_pair = (nums[i], nums[i + 1])\n",
    "    \n",
    "    # Return the pair of elements whose sum is closest to zero\n",
    "    return closest_pair\n",
    "\n",
    "# Define a list of test cases, each containing a list of numbers\n",
    "test_cases = [\n",
    "    [-4, 7, 6, 2, -5],\n",
    "    [-50, 34, -19, 24, 33, 10, -46, -38]\n",
    "]\n",
    "\n",
    "# Iterate over each test case in the test_cases list\n",
    "for nums in test_cases:\n",
    "    # Print the input list for the current test case\n",
    "    print(\"Input:\", nums)\n",
    "    \n",
    "    # Call the closest_to_zero function with the current test case as input,\n",
    "    # and print the output, which is the pair of elements whose sum is closest to zero\n",
    "    print(\"Output:\", closest_to_zero(nums))\n"
   ]
  },
  {
   "cell_type": "code",
   "execution_count": null,
   "id": "0757456b",
   "metadata": {},
   "outputs": [],
   "source": []
  },
  {
   "cell_type": "code",
   "execution_count": null,
   "id": "eabd80b1",
   "metadata": {},
   "outputs": [],
   "source": []
  },
  {
   "cell_type": "code",
   "execution_count": null,
   "id": "e9b07696",
   "metadata": {},
   "outputs": [],
   "source": []
  },
  {
   "cell_type": "code",
   "execution_count": null,
   "id": "db6ec96f",
   "metadata": {},
   "outputs": [],
   "source": []
  },
  {
   "cell_type": "code",
   "execution_count": null,
   "id": "a77bac71",
   "metadata": {},
   "outputs": [],
   "source": []
  },
  {
   "cell_type": "code",
   "execution_count": null,
   "id": "5fac8371",
   "metadata": {},
   "outputs": [],
   "source": []
  },
  {
   "cell_type": "code",
   "execution_count": null,
   "id": "52c09e9b",
   "metadata": {},
   "outputs": [],
   "source": []
  }
 ],
 "metadata": {
  "kernelspec": {
   "display_name": "Python 3 (ipykernel)",
   "language": "python",
   "name": "python3"
  },
  "language_info": {
   "codemirror_mode": {
    "name": "ipython",
    "version": 3
   },
   "file_extension": ".py",
   "mimetype": "text/x-python",
   "name": "python",
   "nbconvert_exporter": "python",
   "pygments_lexer": "ipython3",
   "version": "3.9.13"
  }
 },
 "nbformat": 4,
 "nbformat_minor": 5
}
